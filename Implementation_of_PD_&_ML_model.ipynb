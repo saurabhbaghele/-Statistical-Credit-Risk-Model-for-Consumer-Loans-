{
  "nbformat": 4,
  "nbformat_minor": 0,
  "metadata": {
    "colab": {
      "name": "Implementation of PD & ML model.ipynb",
      "provenance": [],
      "collapsed_sections": []
    },
    "kernelspec": {
      "name": "python3",
      "display_name": "Python 3"
    },
    "language_info": {
      "name": "python"
    }
  },
  "cells": [
    {
      "cell_type": "code",
      "metadata": {
        "id": "MUWtfkdfa0iW"
      },
      "source": [
        "#importing necessary packages\n",
        "import numpy as np\n",
        "import pandas as pd\n",
        "import seaborn as sns\n",
        "import matplotlib.pyplot as plt\n",
        "from sklearn.model_selection import RepeatedStratifiedKFold, cross_val_score\n",
        "from sklearn.linear_model import LogisticRegression\n",
        "from sklearn.metrics import roc_curve, roc_auc_score, confusion_matrix, precision_recall_curve, auc\n",
        "from sklearn.pipeline import Pipeline\n",
        "from sklearn.base import BaseEstimator, TransformerMixin\n",
        "import warnings\n",
        "warnings.filterwarnings(\"ignore\")"
      ],
      "execution_count": 1,
      "outputs": []
    },
    {
      "cell_type": "code",
      "metadata": {
        "colab": {
          "base_uri": "https://localhost:8080/"
        },
        "id": "yYizYMOpbHDJ",
        "outputId": "d3dc686c-2905-44eb-f820-f491e63b8908"
      },
      "source": [
        "from google.colab import drive\n",
        "drive.mount('/content/drive' , force_remount = True)"
      ],
      "execution_count": 2,
      "outputs": [
        {
          "output_type": "stream",
          "name": "stdout",
          "text": [
            "Mounted at /content/drive\n"
          ]
        }
      ]
    },
    {
      "cell_type": "code",
      "metadata": {
        "id": "3hlfIKzibdOE"
      },
      "source": [
        "#Loading Dataset which we have processed earlier\n",
        "X_train = pd.read_csv('/content/drive/MyDrive/Credit_risk_model-main/Pre-processed files/train_data.csv' , index_col=None)\n",
        "Y_train = pd.read_csv('/content/drive/MyDrive/Credit_risk_model-main/Pre-processed files/train_label.csv' , index_col=None)\n",
        "X_test = pd.read_csv('/content/drive/MyDrive/Credit_risk_model-main/Pre-processed files/test_data.csv' , index_col=None)\n",
        "Y_test= pd.read_csv('/content/drive/MyDrive/Credit_risk_model-main/Pre-processed files/test_label.csv' , index_col=None)"
      ],
      "execution_count": 3,
      "outputs": []
    },
    {
      "cell_type": "code",
      "metadata": {
        "colab": {
          "base_uri": "https://localhost:8080/"
        },
        "id": "_UT70_sbw7R-",
        "outputId": "e27c7ac7-83b8-482f-9191-da28b652d5bb"
      },
      "source": [
        "#Checking shape of data\n",
        "print(\"Shape of X_train\",X_train.shape)\n",
        "print(\"Shape of Y_train\",Y_train.shape)\n",
        "print(\"Shape of X_test\",X_test.shape)\n",
        "print(\"Shape of Y_test\",Y_test.shape)"
      ],
      "execution_count": 4,
      "outputs": [
        {
          "output_type": "stream",
          "name": "stdout",
          "text": [
            "Shape of X_train (326399, 36)\n",
            "Shape of Y_train (326399, 1)\n",
            "Shape of X_test (139886, 36)\n",
            "Shape of Y_test (139886, 1)\n"
          ]
        }
      ]
    },
    {
      "cell_type": "markdown",
      "metadata": {
        "id": "5icDmFJ5wlqS"
      },
      "source": [
        "$\\text{Re-applying same steps as done in feature engineering using WoE and IV}$"
      ]
    },
    {
      "cell_type": "code",
      "metadata": {
        "id": "y3WhTWkWjiUY"
      },
      "source": [
        "#list of all the categories having one category from each of the global features that can be dropped from analysis as seen above(low or too high WoE/IV value)\n",
        "categories = ['months_since_last_credit_pull_d:>75', 'months_since_issue_d:>122', 'months_since_earliest_cr_line:>434', 'total_rev_hi_lim:>79,780', 'total_rec_int:>7,260', 'total_pymnt:>25,000', 'out_prncp:>15,437', 'revol_util:>1.0', 'inq_last_6mths:>4', 'dti:>35.191','annual_inc:>150K', 'int_rate:>20.281', 'term:60', 'verification_status:Not Verified', 'home_ownership:MORTGAGE', 'grade:G']"
      ],
      "execution_count": 5,
      "outputs": []
    },
    {
      "cell_type": "code",
      "metadata": {
        "id": "8ST2TuO_bm3M"
      },
      "source": [
        "class WoE_Binning(BaseEstimator, TransformerMixin):\n",
        "    def __init__(self, X): # no *args or *kargs\n",
        "        self.X = X\n",
        "    def fit(self, X, y = None):\n",
        "        return self #nothing else to do\n",
        "    def transform(self, X):\n",
        "        X_new = X.loc[:, 'grade:A': 'grade:G']\n",
        "        X_new['home_ownership:OWN'] = X.loc[:,'home_ownership:OWN']\n",
        "        X_new['home_ownership:MORTGAGE'] = X.loc[:,'home_ownership:MORTGAGE']\n",
        "        X_new['home_ownership:OTHER_NONE_RENT'] = sum([X['home_ownership:OTHER'], X['home_ownership:NONE'], X['home_ownership:RENT']])\n",
        "        X_new = pd.concat([X_new, X.loc[:, 'verification_status:Not Verified':'verification_status:Verified']], axis = 1)\n",
        "        X_new['term:36'] = np.where((X['term'] == 36), 1, 0)\n",
        "        X_new['term:60'] = np.where((X['term'] == 60), 1, 0)\n",
        "        X_new['int_rate:<7.071'] = np.where((X['int_rate'] <= 7.071), 1, 0)\n",
        "        X_new['int_rate:7.071-10.374'] = np.where((X['int_rate'] > 7.071) & (X['int_rate'] <= 10.374), 1, 0)\n",
        "        X_new['int_rate:10.374-13.676'] = np.where((X['int_rate'] > 10.374) & (X['int_rate'] <= 13.676), 1, 0)\n",
        "        X_new['int_rate:13.676-15.74'] = np.where((X['int_rate'] > 13.676) & (X['int_rate'] <= 15.74), 1, 0)\n",
        "        X_new['int_rate:15.74-20.281'] = np.where((X['int_rate'] > 15.74) & (X['int_rate'] <= 20.281), 1, 0)\n",
        "        X_new['int_rate:>20.281'] = np.where((X['int_rate'] > 20.281), 1, 0)\n",
        "        X_new['annual_inc:missing'] = np.where(X['annual_inc'].isnull(), 1, 0)\n",
        "        X_new['annual_inc:<28,555'] = np.where((X['annual_inc'] <= 28555), 1, 0)\n",
        "        X_new['annual_inc:28,555-37,440'] = np.where((X['annual_inc'] > 28555) & (X['annual_inc'] <= 37440), 1, 0)\n",
        "        X_new['annual_inc:37,440-61,137'] = np.where((X['annual_inc'] > 37440) & (X['annual_inc'] <= 61137), 1, 0)\n",
        "        X_new['annual_inc:61,137-81,872'] = np.where((X['annual_inc'] > 61137) & (X['annual_inc'] <= 81872), 1, 0)\n",
        "        X_new['annual_inc:81,872-102,606'] = np.where((X['annual_inc'] > 81872) & (X['annual_inc'] <= 102606), 1, 0)\n",
        "        X_new['annual_inc:102,606-120,379'] = np.where((X['annual_inc'] > 102606) & (X['annual_inc'] <= 120379), 1, 0)\n",
        "        X_new['annual_inc:120,379-150,000'] = np.where((X['annual_inc'] > 120379) & (X['annual_inc'] <= 150000), 1, 0)\n",
        "        X_new['annual_inc:>150K'] = np.where((X['annual_inc'] > 150000), 1, 0)\n",
        "        X_new['dti:<=1.6'] = np.where((X['dti'] <= 1.6), 1, 0)\n",
        "        X_new['dti:1.6-5.599'] = np.where((X['dti'] > 1.6) & (X['dti'] <= 5.599), 1, 0)\n",
        "        X_new['dti:5.599-10.397'] = np.where((X['dti'] > 5.599) & (X['dti'] <= 10.397), 1, 0)\n",
        "        X_new['dti:10.397-15.196'] = np.where((X['dti'] > 10.397) & (X['dti'] <= 15.196), 1, 0)\n",
        "        X_new['dti:15.196-19.195'] = np.where((X['dti'] > 15.196) & (X['dti'] <= 19.195), 1, 0)\n",
        "        X_new['dti:19.195-24.794'] = np.where((X['dti'] > 19.195) & (X['dti'] <= 24.794), 1, 0)\n",
        "        X_new['dti:24.794-35.191'] = np.where((X['dti'] > 24.794) & (X['dti'] <= 35.191), 1, 0)\n",
        "        X_new['dti:>35.191'] = np.where((X['dti'] > 35.191), 1, 0)\n",
        "        X_new['inq_last_6mths:missing'] = np.where(X['inq_last_6mths'].isnull(), 1, 0)\n",
        "        X_new['inq_last_6mths:0'] = np.where((X['inq_last_6mths'] == 0), 1, 0)\n",
        "        X_new['inq_last_6mths:1-2'] = np.where((X['inq_last_6mths'] >= 1) & (X['inq_last_6mths'] <= 2), 1, 0)\n",
        "        X_new['inq_last_6mths:3-4'] = np.where((X['inq_last_6mths'] >= 3) & (X['inq_last_6mths'] <= 4), 1, 0)\n",
        "        X_new['inq_last_6mths:>4'] = np.where((X['inq_last_6mths'] > 4), 1, 0)\n",
        "        # We will discretize on the deciles for revol_util\n",
        "        X_new['revol_util:missing'] = np.where(X['revol_util'].isnull(), 1, 0)\n",
        "        X_new['revol_util:<0.1'] = np.where((X['revol_util'] <= 0.1), 1, 0)\n",
        "        X_new['revol_util:0.1-0.2'] = np.where((X['revol_util'] > 0.1) & (X['revol_util'] <= 0.2), 1, 0)\n",
        "        X_new['revol_util:0.2-0.3'] = np.where((X['revol_util'] > 0.2) & (X['revol_util'] <= 0.3), 1, 0)\n",
        "        X_new['revol_util:0.3-0.4'] = np.where((X['revol_util'] > 0.3) & (X['revol_util'] <= 0.4), 1, 0)\n",
        "        X_new['revol_util:0.4-0.5'] = np.where((X['revol_util'] > 0.4) & (X['revol_util'] <= 0.5), 1, 0)\n",
        "        X_new['revol_util:0.5-0.6'] = np.where((X['revol_util'] > 0.5) & (X['revol_util'] <= 0.6), 1, 0)\n",
        "        X_new['revol_util:0.6-0.7'] = np.where((X['revol_util'] > 0.6) & (X['revol_util'] <= 0.7), 1, 0)\n",
        "        X_new['revol_util:0.7-0.8'] = np.where((X['revol_util'] > 0.7) & (X['revol_util'] <= 0.8), 1, 0)\n",
        "        X_new['revol_util:0.8-0.9'] = np.where((X['revol_util'] > 0.8) & (X['revol_util'] <= 0.9), 1, 0)\n",
        "        X_new['revol_util:0.9-1.0'] = np.where((X['revol_util'] > 0.9) & (X['revol_util'] <= 1.0), 1, 0)\n",
        "        X_new['revol_util:>1.0'] = np.where((X['revol_util'] > 1.0), 1, 0)\n",
        "        X_new['out_prncp:<1,286'] = np.where((X['out_prncp'] <= 1286), 1, 0)\n",
        "        X_new['out_prncp:1,286-6,432'] = np.where((X['out_prncp'] > 1286) & (X['out_prncp'] <= 6432), 1, 0)\n",
        "        X_new['out_prncp:6,432-9,005'] = np.where((X['out_prncp'] > 6432) & (X['out_prncp'] <= 9005), 1, 0)\n",
        "        X_new['out_prncp:9,005-10,291'] = np.where((X['out_prncp'] > 9005) & (X['out_prncp'] <= 10291), 1, 0)\n",
        "        X_new['out_prncp:10,291-15,437'] = np.where((X['out_prncp'] > 10291) & (X['out_prncp'] <= 15437), 1, 0)\n",
        "        X_new['out_prncp:>15,437'] = np.where((X['out_prncp'] > 15437), 1, 0)\n",
        "        X_new['total_pymnt:<10,000'] = np.where((X['total_pymnt'] <= 10000), 1, 0)\n",
        "        X_new['total_pymnt:10,000-15,000'] = np.where((X['total_pymnt'] > 10000) & (X['total_pymnt'] <= 15000), 1, 0)\n",
        "        X_new['total_pymnt:15,000-20,000'] = np.where((X['total_pymnt'] > 15000) & (X['total_pymnt'] <= 20000), 1, 0)\n",
        "        X_new['total_pymnt:20,000-25,000'] = np.where((X['total_pymnt'] > 20000) & (X['total_pymnt'] <= 25000), 1, 0)\n",
        "        X_new['total_pymnt:>25,000'] = np.where((X['total_pymnt'] > 25000), 1, 0)\n",
        "        X_new['total_rec_int:<1,089'] = np.where((X['total_rec_int'] <= 1089), 1, 0)\n",
        "        X_new['total_rec_int:1,089-2,541'] = np.where((X['total_rec_int'] > 1089) & (X['total_rec_int'] <= 2541), 1, 0)\n",
        "        X_new['total_rec_int:2,541-4,719'] = np.where((X['total_rec_int'] > 2541) & (X['total_rec_int'] <= 4719), 1, 0)\n",
        "        X_new['total_rec_int:4,719-7,260'] = np.where((X['total_rec_int'] > 4719) & (X['total_rec_int'] <= 7260), 1, 0)\n",
        "        X_new['total_rec_int:>7,260'] = np.where((X['total_rec_int'] > 7260), 1, 0)\n",
        "        X_new['total_rev_hi_lim:missing'] = np.where(X['total_rev_hi_lim'].isnull(), 1, 0)\n",
        "        X_new['total_rev_hi_lim:<6,381'] = np.where((X['total_rev_hi_lim'] <= 6381), 1, 0)\n",
        "        X_new['total_rev_hi_lim:6,381-19,144'] = np.where((X['total_rev_hi_lim'] > 6381) & (X['total_rev_hi_lim'] <= 19144), 1, 0)\n",
        "        X_new['total_rev_hi_lim:19,144-25,525'] = np.where((X['total_rev_hi_lim'] > 19144) & (X['total_rev_hi_lim'] <= 25525), 1, 0)\n",
        "        X_new['total_rev_hi_lim:25,525-35,097'] = np.where((X['total_rev_hi_lim'] > 25525) & (X['total_rev_hi_lim'] <= 35097), 1, 0)\n",
        "        X_new['total_rev_hi_lim:35,097-54,241'] = np.where((X['total_rev_hi_lim'] > 35097) & (X['total_rev_hi_lim'] <= 54241), 1, 0)\n",
        "        X_new['total_rev_hi_lim:54,241-79,780'] = np.where((X['total_rev_hi_lim'] > 54241) & (X['total_rev_hi_lim'] <= 79780), 1, 0)\n",
        "        X_new['total_rev_hi_lim:>79,780'] = np.where((X['total_rev_hi_lim'] > 79780), 1, 0)\n",
        "        X_new['months_since_earliest_cr_line:missing'] = np.where(X['months_since_earliest_cr_line'].isnull(), 1, 0)\n",
        "        X_new['months_since_earliest_cr_line:<125'] = np.where((X['months_since_earliest_cr_line'] <= 125), 1, 0)\n",
        "        X_new['months_since_earliest_cr_line:125-167'] = np.where((X['months_since_earliest_cr_line'] > 125) & (X['months_since_earliest_cr_line'] <= 167), 1, 0)\n",
        "        X_new['months_since_earliest_cr_line:167-249'] = np.where((X['months_since_earliest_cr_line'] > 167) & (X['months_since_earliest_cr_line'] <= 249), 1, 0)\n",
        "        X_new['months_since_earliest_cr_line:249-331'] = np.where((X['months_since_earliest_cr_line'] > 249) & (X['months_since_earliest_cr_line'] <= 331), 1, 0)\n",
        "        X_new['months_since_earliest_cr_line:331-434'] = np.where((X['months_since_earliest_cr_line'] > 331) & (X['months_since_earliest_cr_line'] <= 434), 1, 0)\n",
        "        X_new['months_since_earliest_cr_line:>434'] = np.where((X['months_since_earliest_cr_line'] > 434), 1, 0)\n",
        "        X_new['months_since_issue_d:<79'] = np.where((X['months_since_issue_d'] <= 79), 1, 0)\n",
        "        X_new['months_since_issue_d:79-89'] = np.where((X['months_since_issue_d'] > 79) & (X['months_since_issue_d'] <= 89), 1, 0)\n",
        "        X_new['months_since_issue_d:89-100'] = np.where((X['months_since_issue_d'] > 89) & (X['months_since_issue_d'] <= 100), 1, 0)\n",
        "        X_new['months_since_issue_d:100-122'] = np.where((X['months_since_issue_d'] > 100) & (X['months_since_issue_d'] <= 122), 1, 0)\n",
        "        X_new['months_since_issue_d:>122'] = np.where((X['months_since_issue_d'] > 122), 1, 0)\n",
        "        X_new['months_since_last_credit_pull_d:missing'] = np.where(X['months_since_last_credit_pull_d'].isnull(), 1, 0)\n",
        "        X_new['months_since_last_credit_pull_d:<56'] = np.where((X['months_since_last_credit_pull_d'] <= 56), 1, 0)\n",
        "        X_new['months_since_last_credit_pull_d:56-61'] = np.where((X['months_since_last_credit_pull_d'] > 56) & (X['months_since_last_credit_pull_d'] <= 61), 1, 0)\n",
        "        X_new['months_since_last_credit_pull_d:61-75'] = np.where((X['months_since_last_credit_pull_d'] > 61) & (X['months_since_last_credit_pull_d'] <= 75), 1, 0)\n",
        "        X_new['months_since_last_credit_pull_d:>75'] = np.where((X['months_since_last_credit_pull_d'] > 75), 1, 0)\n",
        "        X_new.drop(columns = categories, inplace = True)\n",
        "        return X_new"
      ],
      "execution_count": 6,
      "outputs": []
    },
    {
      "cell_type": "markdown",
      "metadata": {
        "id": "NDs6qZV7cVMR"
      },
      "source": [
        "#Probability of Default Model : Using Logistic Regression"
      ]
    },
    {
      "cell_type": "code",
      "metadata": {
        "id": "Wmpank3BjzQD"
      },
      "source": [
        "#defining object for class\n",
        "X= ''"
      ],
      "execution_count": 7,
      "outputs": []
    },
    {
      "cell_type": "markdown",
      "metadata": {
        "id": "PO-GGz_LdobB"
      },
      "source": [
        "$\\text{We will use packages from sklearn to model logistic regression and create a pipepline using sklearn which will perform predefined steps of WoE binning on the data.}$"
      ]
    },
    {
      "cell_type": "code",
      "metadata": {
        "colab": {
          "base_uri": "https://localhost:8080/"
        },
        "id": "4D1PCG63mj8_",
        "outputId": "5ce09979-1737-4cc4-e800-bdfdfbd15367"
      },
      "source": [
        "#define modeling pipeline\n",
        "\n",
        "model = LogisticRegression(max_iter=1000, class_weight = 'balanced') #logistic regression model with penalty : 'l2' , max_iter:1000 and class_weight as 'balanced'\n",
        "\n",
        "#Generate object for a class\n",
        "woe_object = WoE_Binning(X)\n",
        "\n",
        "#Pipeline to perform WoE binning on datasets using defined model\n",
        "pipeline = Pipeline(steps=[('woe', woe_object), ('model', model)])\n",
        "\n",
        "#cross-validation criteria. RepeatedStratifiedKFold automatially takes care of the class imbalance while splitting\n",
        "cv = RepeatedStratifiedKFold(n_splits=5, n_repeats=3, random_state=1)\n",
        "\n",
        "#fit and evaluate the logistic regression pipeline with cross-validation as defined in cv\n",
        "score = cross_val_score(pipeline, X_train, Y_train, scoring = 'roc_auc', cv = cv)\n",
        "\n",
        "#evaluate\n",
        "#graphical plot that illustrates the diagnostic ability of a binary classifier system as its discrimination threshold is varied\n",
        "AUROC = np.mean(score)\n",
        "\n",
        "#Gini index or Gini impurity measures the degree or probability of a particular variable being wrongly classified when it is randomly chosen\n",
        "GINI = AUROC * 2 - 1\n",
        "\n",
        "# print the mean AUROC score and Gini\n",
        "print('Mean Area Under the Receiver Operating Characteristics(AUROC) : {}'.format(AUROC))\n",
        "print('Gini: {}'.format(GINI))"
      ],
      "execution_count": 8,
      "outputs": [
        {
          "output_type": "stream",
          "name": "stdout",
          "text": [
            "Mean Area Under the Receiver Operating Characteristics(AUROC) : 0.8615579763400062\n",
            "Gini: 0.7231159526800124\n"
          ]
        }
      ]
    },
    {
      "cell_type": "code",
      "metadata": {
        "colab": {
          "base_uri": "https://localhost:8080/"
        },
        "id": "wQco-YEozvfu",
        "outputId": "852c6c6f-ac8e-481c-997d-fc2371e92469"
      },
      "source": [
        "print('Mean Area Under the Receiver Operating Characteristics(AUROC) : {}'.format(AUROC))\n",
        "print('Gini index: {}'.format(GINI))"
      ],
      "execution_count": 9,
      "outputs": [
        {
          "output_type": "stream",
          "name": "stdout",
          "text": [
            "Mean Area Under the Receiver Operating Characteristics(AUROC) : 0.8615579763400062\n",
            "Gini index: 0.7231159526800124\n"
          ]
        }
      ]
    },
    {
      "cell_type": "code",
      "metadata": {
        "id": "RISw-XrsmSqk",
        "colab": {
          "base_uri": "https://localhost:8080/"
        },
        "outputId": "c6e42b9f-986f-4776-f297-47c8c48cfc66"
      },
      "source": [
        "#Fit the pipeline on the whole training set\n",
        "pipeline.fit(X_train, Y_train)"
      ],
      "execution_count": 10,
      "outputs": [
        {
          "output_type": "execute_result",
          "data": {
            "text/plain": [
              "Pipeline(steps=[('woe', WoE_Binning(X='')),\n",
              "                ('model',\n",
              "                 LogisticRegression(class_weight='balanced', max_iter=1000))])"
            ]
          },
          "metadata": {},
          "execution_count": 10
        }
      ]
    },
    {
      "cell_type": "markdown",
      "metadata": {
        "id": "ebqhEjiw6Q9p"
      },
      "source": [
        "#Model fitting on test data "
      ]
    },
    {
      "cell_type": "code",
      "metadata": {
        "colab": {
          "base_uri": "https://localhost:8080/",
          "height": 424
        },
        "id": "fEA2O_B2pbf-",
        "outputId": "d6373635-0e8e-492f-f5e8-8c26766ed2a1"
      },
      "source": [
        "#first create a transformed training set through our WoE_Binning custom class\n",
        "X_train_woe = woe_object.fit_transform(X_train)\n",
        "\n",
        "# Store the column names in X_train as a list\n",
        "feature_name = X_train_woe.columns.values\n",
        "\n",
        "#Create a summary table of our logistic regression model\n",
        "summary_table = pd.DataFrame(columns = ['Feature name'], data = feature_name)\n",
        "\n",
        "#Create a new column in the dataframe, called 'Coefficients', with row values the transposed coefficients from the 'LogisticRegression' model\n",
        "summary_table['Coefficients'] = np.transpose(pipeline['model'].coef_)\n",
        "\n",
        "#Increase the index of every row of the dataframe with 1 to store our model intercept in 1st row\n",
        "summary_table.index = summary_table.index + 1\n",
        "\n",
        "#Assign our model intercept to this new row\n",
        "summary_table.loc[0] = ['Intercept', pipeline['model'].intercept_[0]]\n",
        "\n",
        "#Sort the dataframe by index\n",
        "summary_table.sort_index(inplace = True)\n",
        "summary_table"
      ],
      "execution_count": 11,
      "outputs": [
        {
          "output_type": "execute_result",
          "data": {
            "text/plain": [
              "                               Feature name  Coefficients\n",
              "0                                 Intercept      3.110538\n",
              "1                                   grade:A      0.904312\n",
              "2                                   grade:B      0.711800\n",
              "3                                   grade:C      0.552584\n",
              "4                                   grade:D      0.466138\n",
              "..                                      ...           ...\n",
              "76             months_since_issue_d:100-122     -0.101783\n",
              "77  months_since_last_credit_pull_d:missing      0.056302\n",
              "78      months_since_last_credit_pull_d:<56      0.000000\n",
              "79    months_since_last_credit_pull_d:56-61      0.000000\n",
              "80    months_since_last_credit_pull_d:61-75      0.000000\n",
              "\n",
              "[81 rows x 2 columns]"
            ],
            "text/html": [
              "\n",
              "  <div id=\"df-a7722bf4-d632-47e9-882c-d650d2603f28\">\n",
              "    <div class=\"colab-df-container\">\n",
              "      <div>\n",
              "<style scoped>\n",
              "    .dataframe tbody tr th:only-of-type {\n",
              "        vertical-align: middle;\n",
              "    }\n",
              "\n",
              "    .dataframe tbody tr th {\n",
              "        vertical-align: top;\n",
              "    }\n",
              "\n",
              "    .dataframe thead th {\n",
              "        text-align: right;\n",
              "    }\n",
              "</style>\n",
              "<table border=\"1\" class=\"dataframe\">\n",
              "  <thead>\n",
              "    <tr style=\"text-align: right;\">\n",
              "      <th></th>\n",
              "      <th>Feature name</th>\n",
              "      <th>Coefficients</th>\n",
              "    </tr>\n",
              "  </thead>\n",
              "  <tbody>\n",
              "    <tr>\n",
              "      <th>0</th>\n",
              "      <td>Intercept</td>\n",
              "      <td>3.110538</td>\n",
              "    </tr>\n",
              "    <tr>\n",
              "      <th>1</th>\n",
              "      <td>grade:A</td>\n",
              "      <td>0.904312</td>\n",
              "    </tr>\n",
              "    <tr>\n",
              "      <th>2</th>\n",
              "      <td>grade:B</td>\n",
              "      <td>0.711800</td>\n",
              "    </tr>\n",
              "    <tr>\n",
              "      <th>3</th>\n",
              "      <td>grade:C</td>\n",
              "      <td>0.552584</td>\n",
              "    </tr>\n",
              "    <tr>\n",
              "      <th>4</th>\n",
              "      <td>grade:D</td>\n",
              "      <td>0.466138</td>\n",
              "    </tr>\n",
              "    <tr>\n",
              "      <th>...</th>\n",
              "      <td>...</td>\n",
              "      <td>...</td>\n",
              "    </tr>\n",
              "    <tr>\n",
              "      <th>76</th>\n",
              "      <td>months_since_issue_d:100-122</td>\n",
              "      <td>-0.101783</td>\n",
              "    </tr>\n",
              "    <tr>\n",
              "      <th>77</th>\n",
              "      <td>months_since_last_credit_pull_d:missing</td>\n",
              "      <td>0.056302</td>\n",
              "    </tr>\n",
              "    <tr>\n",
              "      <th>78</th>\n",
              "      <td>months_since_last_credit_pull_d:&lt;56</td>\n",
              "      <td>0.000000</td>\n",
              "    </tr>\n",
              "    <tr>\n",
              "      <th>79</th>\n",
              "      <td>months_since_last_credit_pull_d:56-61</td>\n",
              "      <td>0.000000</td>\n",
              "    </tr>\n",
              "    <tr>\n",
              "      <th>80</th>\n",
              "      <td>months_since_last_credit_pull_d:61-75</td>\n",
              "      <td>0.000000</td>\n",
              "    </tr>\n",
              "  </tbody>\n",
              "</table>\n",
              "<p>81 rows × 2 columns</p>\n",
              "</div>\n",
              "      <button class=\"colab-df-convert\" onclick=\"convertToInteractive('df-a7722bf4-d632-47e9-882c-d650d2603f28')\"\n",
              "              title=\"Convert this dataframe to an interactive table.\"\n",
              "              style=\"display:none;\">\n",
              "        \n",
              "  <svg xmlns=\"http://www.w3.org/2000/svg\" height=\"24px\"viewBox=\"0 0 24 24\"\n",
              "       width=\"24px\">\n",
              "    <path d=\"M0 0h24v24H0V0z\" fill=\"none\"/>\n",
              "    <path d=\"M18.56 5.44l.94 2.06.94-2.06 2.06-.94-2.06-.94-.94-2.06-.94 2.06-2.06.94zm-11 1L8.5 8.5l.94-2.06 2.06-.94-2.06-.94L8.5 2.5l-.94 2.06-2.06.94zm10 10l.94 2.06.94-2.06 2.06-.94-2.06-.94-.94-2.06-.94 2.06-2.06.94z\"/><path d=\"M17.41 7.96l-1.37-1.37c-.4-.4-.92-.59-1.43-.59-.52 0-1.04.2-1.43.59L10.3 9.45l-7.72 7.72c-.78.78-.78 2.05 0 2.83L4 21.41c.39.39.9.59 1.41.59.51 0 1.02-.2 1.41-.59l7.78-7.78 2.81-2.81c.8-.78.8-2.07 0-2.86zM5.41 20L4 18.59l7.72-7.72 1.47 1.35L5.41 20z\"/>\n",
              "  </svg>\n",
              "      </button>\n",
              "      \n",
              "  <style>\n",
              "    .colab-df-container {\n",
              "      display:flex;\n",
              "      flex-wrap:wrap;\n",
              "      gap: 12px;\n",
              "    }\n",
              "\n",
              "    .colab-df-convert {\n",
              "      background-color: #E8F0FE;\n",
              "      border: none;\n",
              "      border-radius: 50%;\n",
              "      cursor: pointer;\n",
              "      display: none;\n",
              "      fill: #1967D2;\n",
              "      height: 32px;\n",
              "      padding: 0 0 0 0;\n",
              "      width: 32px;\n",
              "    }\n",
              "\n",
              "    .colab-df-convert:hover {\n",
              "      background-color: #E2EBFA;\n",
              "      box-shadow: 0px 1px 2px rgba(60, 64, 67, 0.3), 0px 1px 3px 1px rgba(60, 64, 67, 0.15);\n",
              "      fill: #174EA6;\n",
              "    }\n",
              "\n",
              "    [theme=dark] .colab-df-convert {\n",
              "      background-color: #3B4455;\n",
              "      fill: #D2E3FC;\n",
              "    }\n",
              "\n",
              "    [theme=dark] .colab-df-convert:hover {\n",
              "      background-color: #434B5C;\n",
              "      box-shadow: 0px 1px 3px 1px rgba(0, 0, 0, 0.15);\n",
              "      filter: drop-shadow(0px 1px 2px rgba(0, 0, 0, 0.3));\n",
              "      fill: #FFFFFF;\n",
              "    }\n",
              "  </style>\n",
              "\n",
              "      <script>\n",
              "        const buttonEl =\n",
              "          document.querySelector('#df-a7722bf4-d632-47e9-882c-d650d2603f28 button.colab-df-convert');\n",
              "        buttonEl.style.display =\n",
              "          google.colab.kernel.accessAllowed ? 'block' : 'none';\n",
              "\n",
              "        async function convertToInteractive(key) {\n",
              "          const element = document.querySelector('#df-a7722bf4-d632-47e9-882c-d650d2603f28');\n",
              "          const dataTable =\n",
              "            await google.colab.kernel.invokeFunction('convertToInteractive',\n",
              "                                                     [key], {});\n",
              "          if (!dataTable) return;\n",
              "\n",
              "          const docLinkHtml = 'Like what you see? Visit the ' +\n",
              "            '<a target=\"_blank\" href=https://colab.research.google.com/notebooks/data_table.ipynb>data table notebook</a>'\n",
              "            + ' to learn more about interactive tables.';\n",
              "          element.innerHTML = '';\n",
              "          dataTable['output_type'] = 'display_data';\n",
              "          await google.colab.output.renderOutput(dataTable, element);\n",
              "          const docLink = document.createElement('div');\n",
              "          docLink.innerHTML = docLinkHtml;\n",
              "          element.appendChild(docLink);\n",
              "        }\n",
              "      </script>\n",
              "    </div>\n",
              "  </div>\n",
              "  "
            ]
          },
          "metadata": {},
          "execution_count": 11
        }
      ]
    },
    {
      "cell_type": "markdown",
      "metadata": {
        "id": "TbwaOnrQ6mcf"
      },
      "source": [
        "#Making Prediction"
      ]
    },
    {
      "cell_type": "code",
      "metadata": {
        "id": "HM6PIfaVpcI7"
      },
      "source": [
        "#make preditions on test set\n",
        "y_hat_test = pipeline.predict(X_test)\n",
        "\n",
        "#get the predicted probabilities\n",
        "y_hat_test_prob = pipeline.predict_proba(X_test)\n",
        "\n",
        "# select the probabilities of only the positive class (class 1 - default) \n",
        "y_hat_test_prob = y_hat_test_prob[:][: , 1]"
      ],
      "execution_count": 12,
      "outputs": []
    },
    {
      "cell_type": "code",
      "metadata": {
        "colab": {
          "base_uri": "https://localhost:8080/"
        },
        "id": "VDvGN396phFM",
        "outputId": "f9608723-3b5f-4a08-9f40-24f51073a7cc"
      },
      "source": [
        "# we will now create a new dataframe with actual classes and the predicted probabilities\n",
        "y_test_temp = Y_test.copy()\n",
        "y_test_temp.reset_index(drop = True, inplace = True)\n",
        "\n",
        "y_test_prob = pd.concat([y_test_temp, pd.DataFrame(y_hat_test_prob)], axis = 1)\n",
        "\n",
        "# check the shape to make sure the number of rows is same as that in Y_test\n",
        "print('y_test_prob shape',y_test_prob.shape)\n",
        "print('Y_test shape' , Y_test.shape)"
      ],
      "execution_count": 13,
      "outputs": [
        {
          "output_type": "stream",
          "name": "stdout",
          "text": [
            "y_test_prob shape (139886, 2)\n",
            "Y_test shape (139886, 1)\n"
          ]
        }
      ]
    },
    {
      "cell_type": "markdown",
      "metadata": {
        "id": "hRw3BYz10XfL"
      },
      "source": [
        "$\\text{Both have same number of rows.}$"
      ]
    },
    {
      "cell_type": "code",
      "metadata": {
        "colab": {
          "base_uri": "https://localhost:8080/",
          "height": 363
        },
        "id": "CQ4oVgN2pj3c",
        "outputId": "92660960-6177-492b-8d40-a0fb22429d9d"
      },
      "source": [
        "# Rename the columns\n",
        "y_test_prob.columns = ['Y_test_class_actual', 'y_hat_test_probability']\n",
        "\n",
        "# Makes the index of one dataframe equal to the index of another dataframe.\n",
        "y_test_prob.index = X_test.index\n",
        "y_test_prob.head(10)"
      ],
      "execution_count": 14,
      "outputs": [
        {
          "output_type": "execute_result",
          "data": {
            "text/plain": [
              "   Y_test_class_actual  y_hat_test_probability\n",
              "0                    0                0.174534\n",
              "1                    1                0.268293\n",
              "2                    1                0.719645\n",
              "3                    1                0.892006\n",
              "4                    1                0.697245\n",
              "5                    0                0.244167\n",
              "6                    1                0.902656\n",
              "7                    1                0.868873\n",
              "8                    1                0.969862\n",
              "9                    1                0.763047"
            ],
            "text/html": [
              "\n",
              "  <div id=\"df-5d6fb32b-9b67-4e63-83c3-081a35f757b8\">\n",
              "    <div class=\"colab-df-container\">\n",
              "      <div>\n",
              "<style scoped>\n",
              "    .dataframe tbody tr th:only-of-type {\n",
              "        vertical-align: middle;\n",
              "    }\n",
              "\n",
              "    .dataframe tbody tr th {\n",
              "        vertical-align: top;\n",
              "    }\n",
              "\n",
              "    .dataframe thead th {\n",
              "        text-align: right;\n",
              "    }\n",
              "</style>\n",
              "<table border=\"1\" class=\"dataframe\">\n",
              "  <thead>\n",
              "    <tr style=\"text-align: right;\">\n",
              "      <th></th>\n",
              "      <th>Y_test_class_actual</th>\n",
              "      <th>y_hat_test_probability</th>\n",
              "    </tr>\n",
              "  </thead>\n",
              "  <tbody>\n",
              "    <tr>\n",
              "      <th>0</th>\n",
              "      <td>0</td>\n",
              "      <td>0.174534</td>\n",
              "    </tr>\n",
              "    <tr>\n",
              "      <th>1</th>\n",
              "      <td>1</td>\n",
              "      <td>0.268293</td>\n",
              "    </tr>\n",
              "    <tr>\n",
              "      <th>2</th>\n",
              "      <td>1</td>\n",
              "      <td>0.719645</td>\n",
              "    </tr>\n",
              "    <tr>\n",
              "      <th>3</th>\n",
              "      <td>1</td>\n",
              "      <td>0.892006</td>\n",
              "    </tr>\n",
              "    <tr>\n",
              "      <th>4</th>\n",
              "      <td>1</td>\n",
              "      <td>0.697245</td>\n",
              "    </tr>\n",
              "    <tr>\n",
              "      <th>5</th>\n",
              "      <td>0</td>\n",
              "      <td>0.244167</td>\n",
              "    </tr>\n",
              "    <tr>\n",
              "      <th>6</th>\n",
              "      <td>1</td>\n",
              "      <td>0.902656</td>\n",
              "    </tr>\n",
              "    <tr>\n",
              "      <th>7</th>\n",
              "      <td>1</td>\n",
              "      <td>0.868873</td>\n",
              "    </tr>\n",
              "    <tr>\n",
              "      <th>8</th>\n",
              "      <td>1</td>\n",
              "      <td>0.969862</td>\n",
              "    </tr>\n",
              "    <tr>\n",
              "      <th>9</th>\n",
              "      <td>1</td>\n",
              "      <td>0.763047</td>\n",
              "    </tr>\n",
              "  </tbody>\n",
              "</table>\n",
              "</div>\n",
              "      <button class=\"colab-df-convert\" onclick=\"convertToInteractive('df-5d6fb32b-9b67-4e63-83c3-081a35f757b8')\"\n",
              "              title=\"Convert this dataframe to an interactive table.\"\n",
              "              style=\"display:none;\">\n",
              "        \n",
              "  <svg xmlns=\"http://www.w3.org/2000/svg\" height=\"24px\"viewBox=\"0 0 24 24\"\n",
              "       width=\"24px\">\n",
              "    <path d=\"M0 0h24v24H0V0z\" fill=\"none\"/>\n",
              "    <path d=\"M18.56 5.44l.94 2.06.94-2.06 2.06-.94-2.06-.94-.94-2.06-.94 2.06-2.06.94zm-11 1L8.5 8.5l.94-2.06 2.06-.94-2.06-.94L8.5 2.5l-.94 2.06-2.06.94zm10 10l.94 2.06.94-2.06 2.06-.94-2.06-.94-.94-2.06-.94 2.06-2.06.94z\"/><path d=\"M17.41 7.96l-1.37-1.37c-.4-.4-.92-.59-1.43-.59-.52 0-1.04.2-1.43.59L10.3 9.45l-7.72 7.72c-.78.78-.78 2.05 0 2.83L4 21.41c.39.39.9.59 1.41.59.51 0 1.02-.2 1.41-.59l7.78-7.78 2.81-2.81c.8-.78.8-2.07 0-2.86zM5.41 20L4 18.59l7.72-7.72 1.47 1.35L5.41 20z\"/>\n",
              "  </svg>\n",
              "      </button>\n",
              "      \n",
              "  <style>\n",
              "    .colab-df-container {\n",
              "      display:flex;\n",
              "      flex-wrap:wrap;\n",
              "      gap: 12px;\n",
              "    }\n",
              "\n",
              "    .colab-df-convert {\n",
              "      background-color: #E8F0FE;\n",
              "      border: none;\n",
              "      border-radius: 50%;\n",
              "      cursor: pointer;\n",
              "      display: none;\n",
              "      fill: #1967D2;\n",
              "      height: 32px;\n",
              "      padding: 0 0 0 0;\n",
              "      width: 32px;\n",
              "    }\n",
              "\n",
              "    .colab-df-convert:hover {\n",
              "      background-color: #E2EBFA;\n",
              "      box-shadow: 0px 1px 2px rgba(60, 64, 67, 0.3), 0px 1px 3px 1px rgba(60, 64, 67, 0.15);\n",
              "      fill: #174EA6;\n",
              "    }\n",
              "\n",
              "    [theme=dark] .colab-df-convert {\n",
              "      background-color: #3B4455;\n",
              "      fill: #D2E3FC;\n",
              "    }\n",
              "\n",
              "    [theme=dark] .colab-df-convert:hover {\n",
              "      background-color: #434B5C;\n",
              "      box-shadow: 0px 1px 3px 1px rgba(0, 0, 0, 0.15);\n",
              "      filter: drop-shadow(0px 1px 2px rgba(0, 0, 0, 0.3));\n",
              "      fill: #FFFFFF;\n",
              "    }\n",
              "  </style>\n",
              "\n",
              "      <script>\n",
              "        const buttonEl =\n",
              "          document.querySelector('#df-5d6fb32b-9b67-4e63-83c3-081a35f757b8 button.colab-df-convert');\n",
              "        buttonEl.style.display =\n",
              "          google.colab.kernel.accessAllowed ? 'block' : 'none';\n",
              "\n",
              "        async function convertToInteractive(key) {\n",
              "          const element = document.querySelector('#df-5d6fb32b-9b67-4e63-83c3-081a35f757b8');\n",
              "          const dataTable =\n",
              "            await google.colab.kernel.invokeFunction('convertToInteractive',\n",
              "                                                     [key], {});\n",
              "          if (!dataTable) return;\n",
              "\n",
              "          const docLinkHtml = 'Like what you see? Visit the ' +\n",
              "            '<a target=\"_blank\" href=https://colab.research.google.com/notebooks/data_table.ipynb>data table notebook</a>'\n",
              "            + ' to learn more about interactive tables.';\n",
              "          element.innerHTML = '';\n",
              "          dataTable['output_type'] = 'display_data';\n",
              "          await google.colab.output.renderOutput(dataTable, element);\n",
              "          const docLink = document.createElement('div');\n",
              "          docLink.innerHTML = docLinkHtml;\n",
              "          element.appendChild(docLink);\n",
              "        }\n",
              "      </script>\n",
              "    </div>\n",
              "  </div>\n",
              "  "
            ]
          },
          "metadata": {},
          "execution_count": 14
        }
      ]
    },
    {
      "cell_type": "code",
      "metadata": {
        "colab": {
          "base_uri": "https://localhost:8080/"
        },
        "id": "SQBJn_4apmds",
        "outputId": "6177527b-82d5-47d8-f961-b3cf8be7ada3"
      },
      "source": [
        "# assign a threshold value to differentiate good with bad\n",
        "tr = 0.52 # threshold at 52%\n",
        "\n",
        "#crate a new column for the predicted class based on predicted probabilities and thresholdt\n",
        "y_test_prob['y_test_class_predicted'] = np.where(y_test_prob['y_hat_test_probability'] > tr, 1, 0)\n",
        "\n",
        "# create the confusion matrix\n",
        "confusion_matrix(y_test_prob['Y_test_class_actual'], y_test_prob['y_test_class_predicted'], normalize = 'all')"
      ],
      "execution_count": 15,
      "outputs": [
        {
          "output_type": "execute_result",
          "data": {
            "text/plain": [
              "array([[0.08933703, 0.01996626],\n",
              "       [0.20221466, 0.68848205]])"
            ]
          },
          "metadata": {},
          "execution_count": 15
        }
      ]
    },
    {
      "cell_type": "code",
      "metadata": {
        "colab": {
          "base_uri": "https://localhost:8080/",
          "height": 295
        },
        "id": "AQLKV-aspqSs",
        "outputId": "e6ef0d5f-38da-489c-8c6a-2452959f215a"
      },
      "source": [
        "#get the values required to plot a ROC curve\n",
        "fpr, tpr, thresholds = roc_curve(y_test_prob['Y_test_class_actual'], y_test_prob['y_hat_test_probability']) #false positive rate and true positive rate\n",
        "\n",
        "# plot the ROC curve\n",
        "plt.plot(fpr, tpr)\n",
        "\n",
        "# plot a secondary diagonal line, with dashed line style and black color to represent a no-skill classifier\n",
        "plt.plot(fpr, fpr, linestyle = '--', color = 'r')\n",
        "plt.xlabel('False positive rate')\n",
        "plt.ylabel('True positive rate')\n",
        "plt.title('ROC curve');"
      ],
      "execution_count": 16,
      "outputs": [
        {
          "output_type": "display_data",
          "data": {
            "text/plain": [
              "<Figure size 432x288 with 1 Axes>"
            ],
            "image/png": "[encoded data removed]"
          },
          "metadata": {
            "needs_background": "light"
          }
        }
      ]
    },
    {
      "cell_type": "markdown",
      "metadata": {
        "id": "-ZhRk7-V5SzP"
      },
      "source": [
        "#Metrics for performance of a model on test data"
      ]
    },
    {
      "cell_type": "markdown",
      "metadata": {
        "id": "T5DaYpD75mfQ"
      },
      "source": [
        "$\\text{AUROC score}$"
      ]
    },
    {
      "cell_type": "code",
      "metadata": {
        "colab": {
          "base_uri": "https://localhost:8080/"
        },
        "id": "MMY-sUftps3c",
        "outputId": "df33852f-a1d6-4644-88ef-ea129901be2e"
      },
      "source": [
        "# Calculate the Area Under the Receiver Operating Characteristic Curve (AUROC) on our test set\n",
        "AUROC = roc_auc_score(y_test_prob['Y_test_class_actual'], y_test_prob['y_hat_test_probability'])\n",
        "print(\"AUROC : \" , AUROC)"
      ],
      "execution_count": 17,
      "outputs": [
        {
          "output_type": "stream",
          "name": "stdout",
          "text": [
            "AUROC :  0.8610859787387447\n"
          ]
        }
      ]
    },
    {
      "cell_type": "markdown",
      "metadata": {
        "id": "yjR6ifzA5tIv"
      },
      "source": [
        "$\\text{Gini index value}$"
      ]
    },
    {
      "cell_type": "code",
      "metadata": {
        "colab": {
          "base_uri": "https://localhost:8080/"
        },
        "id": "6nMf3PQgpvK8",
        "outputId": "a047b53b-ef73-4d97-e535-a5d7e5ee4586"
      },
      "source": [
        "# calculate Gini from AUROC\n",
        "Gini = AUROC * 2 - 1\n",
        "print('Gini index : ', Gini)"
      ],
      "execution_count": 18,
      "outputs": [
        {
          "output_type": "stream",
          "name": "stdout",
          "text": [
            "Gini index :  0.7221719574774894\n"
          ]
        }
      ]
    },
    {
      "cell_type": "markdown",
      "metadata": {
        "id": "MppLI76452Hc"
      },
      "source": [
        "$\\text{Precision Recall curve:}$"
      ]
    },
    {
      "cell_type": "code",
      "metadata": {
        "colab": {
          "base_uri": "https://localhost:8080/",
          "height": 295
        },
        "id": "ZjAPDlQOpxBT",
        "outputId": "f0013093-baa9-4039-eeda-2cbeef927af0"
      },
      "source": [
        "# draw a PR curve\n",
        "# calculate the no skill line as the proportion of the positive class\n",
        "no_skill = len(Y_test[Y_test == 1]) / (len(Y_test)+len(Y_train))\n",
        "\n",
        "#plot the no skill precision-recall curve\n",
        "plt.plot([0, 1], [no_skill, no_skill], linestyle='--', label='No Skill')\n",
        "\n",
        "#calculate inputs for the PR curve\n",
        "precision, recall, thresholds = precision_recall_curve(y_test_prob['Y_test_class_actual'], y_test_prob['y_hat_test_probability'])\n",
        "\n",
        "# plot PR curve\n",
        "plt.plot(recall, precision, linestyle= '-.', label='Logistic' , color = 'r')\n",
        "plt.xlabel('Recall')\n",
        "plt.ylabel('Precision')\n",
        "plt.legend()\n",
        "plt.title('Precison-Recall curve');"
      ],
      "execution_count": 20,
      "outputs": [
        {
          "output_type": "display_data",
          "data": {
            "text/plain": [
              "<Figure size 432x288 with 1 Axes>"
            ],
            "image/png": "[encoded data removed]"
          },
          "metadata": {
            "needs_background": "light"
          }
        }
      ]
    },
    {
      "cell_type": "markdown",
      "metadata": {
        "id": "KQ4aMFZby4dr"
      },
      "source": [
        "$\\text{For more information about AUC and PR AUC , read :}$\n",
        "[AUROC Vs AUCPr](https://https://datascience.stackexchange.com/questions/9003/when-do-i-have-to-use-aucpr-instead-of-auroc-and-vice-versa)"
      ]
    },
    {
      "cell_type": "markdown",
      "metadata": {
        "id": "qFG3Xhj05-Br"
      },
      "source": [
        "$\\text{Value of PR-AUC}$"
      ]
    },
    {
      "cell_type": "code",
      "metadata": {
        "colab": {
          "base_uri": "https://localhost:8080/"
        },
        "id": "BgUfWvyn3Ww6",
        "outputId": "42dd018c-4da1-4cab-ef2e-260ef09fef97"
      },
      "source": [
        "# calculate PR AUC\n",
        "auc_pr = auc(recall, precision)\n",
        "print(\"value of PR-AUC obtained is : \" , auc_pr)"
      ],
      "execution_count": 21,
      "outputs": [
        {
          "output_type": "stream",
          "name": "stdout",
          "text": [
            "value of PR-AUC obtained is :  0.9756887086928643\n"
          ]
        }
      ]
    },
    {
      "cell_type": "code",
      "metadata": {
        "id": "W1ET7JrY5Mwu"
      },
      "source": [
        ""
      ],
      "execution_count": null,
      "outputs": []
    }
  ]
}